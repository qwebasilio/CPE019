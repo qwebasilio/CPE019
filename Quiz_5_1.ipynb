{
  "nbformat": 4,
  "nbformat_minor": 0,
  "metadata": {
    "colab": {
      "provenance": [],
      "authorship_tag": "ABX9TyNZKevaIHHNjBwHRbMSqL8E",
      "include_colab_link": true
    },
    "kernelspec": {
      "name": "python3",
      "display_name": "Python 3"
    },
    "language_info": {
      "name": "python"
    }
  },
  "cells": [
    {
      "cell_type": "markdown",
      "metadata": {
        "id": "view-in-github",
        "colab_type": "text"
      },
      "source": [
        "<a href=\"https://colab.research.google.com/github/qwebasilio/CPE019/blob/main/Quiz_5_1.ipynb\" target=\"_parent\"><img src=\"https://colab.research.google.com/assets/colab-badge.svg\" alt=\"Open In Colab\"/></a>"
      ]
    },
    {
      "cell_type": "code",
      "execution_count": 1,
      "metadata": {
        "colab": {
          "base_uri": "https://localhost:8080/"
        },
        "id": "4eMi26NEalDt",
        "outputId": "5c004d7f-f9d3-442d-b881-f06e3020b2ad"
      },
      "outputs": [
        {
          "output_type": "stream",
          "name": "stdout",
          "text": [
            "   attempts qualify\n",
            "a         1     yes\n",
            "b         3      no\n",
            "c         2     yes\n",
            "d         3      no\n",
            "e         2      no\n",
            "f         3     yes\n",
            "g         1     yes\n",
            "h         1      no\n",
            "i         2      no\n",
            "j         1     yes\n"
          ]
        }
      ],
      "source": [
        "import pandas as pd\n",
        "import numpy as np\n",
        "\n",
        "exam_data = {'name': ['Anastasia', 'Dima', 'Katherine', 'James', 'Emily', 'Michael', 'Matthew', 'Laura', 'Kevin', 'Jonas'],\n",
        "        'score': [12.5, 9, 16.5, np.nan, 9, 20, 14.5, np.nan, 8, 19],\n",
        "        'attempts': [1, 3, 2, 3, 2, 3, 1, 1, 2, 1],\n",
        "        'qualify': ['yes', 'no', 'yes', 'no', 'no', 'yes', 'yes', 'no', 'no', 'yes']}\n",
        "labels = ['a', 'b', 'c', 'd', 'e', 'f', 'g', 'h', 'i', 'j']\n",
        "\n",
        "df = pd.DataFrame(exam_data , index=labels)\n",
        "aq_columns = df[['attempts', 'qualify']]\n",
        "\n",
        "print(aq_columns)"
      ]
    },
    {
      "cell_type": "markdown",
      "source": [
        "We create a Pandas DataFrame called df from the given exam_data dictionary, using the labels list as row indices. Then we select the 'attempts' and 'qualify' columns from the DataFrame using double square brackets df[['attempts', 'qualify']] and assigns the result to a new DataFrame called aq_columns. Finally, we printed the aq_columns DataFrame to display the selected columns. Essentially, it extracts a subset of the original DataFrame containing only the desired columns, creating a new DataFrame with those specific columns and the same row indices."
      ],
      "metadata": {
        "id": "BKpk64AsgYmP"
      }
    }
  ]
}