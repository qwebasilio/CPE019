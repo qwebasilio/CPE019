{
  "nbformat": 4,
  "nbformat_minor": 0,
  "metadata": {
    "colab": {
      "provenance": [],
      "authorship_tag": "ABX9TyO1kK9zMbLvocpgIP+9l9tR",
      "include_colab_link": true
    },
    "kernelspec": {
      "name": "python3",
      "display_name": "Python 3"
    },
    "language_info": {
      "name": "python"
    }
  },
  "cells": [
    {
      "cell_type": "markdown",
      "metadata": {
        "id": "view-in-github",
        "colab_type": "text"
      },
      "source": [
        "<a href=\"https://colab.research.google.com/github/qwebasilio/CPE019/blob/main/Assignment_8_1_Saving_Models_Basilio.ipynb\" target=\"_parent\"><img src=\"https://colab.research.google.com/assets/colab-badge.svg\" alt=\"Open In Colab\"/></a>"
      ]
    },
    {
      "cell_type": "markdown",
      "source": [
        "Assignment 8.1 | Saving Models\n",
        "--- | ---\n",
        "**Name**  |  Basilio, Wilhelm Elian\n",
        "**Course & Section**  |  CPE 019-CPE32S4\n",
        "**Date** | April 3, 2024"
      ],
      "metadata": {
        "id": "XKMP4O_b3yIF"
      }
    },
    {
      "cell_type": "markdown",
      "source": [
        "The Wine Quality dataset contains physicochemical properties of different wine samples, such as acidity, sugar content, and pH, along with their quality ratings (scored from 0 to 10). The problem being addressed is predicting wine quality based on these features. This can be framed as a classification problem (by categorizing wine into quality groups) or a regression problem (by predicting the exact quality score). By building machine learning models, we aim to help wine producers and consumers assess wine quality more efficiently."
      ],
      "metadata": {
        "id": "bXHVRHF54MTn"
      }
    },
    {
      "cell_type": "code",
      "execution_count": 1,
      "metadata": {
        "colab": {
          "base_uri": "https://localhost:8080/"
        },
        "id": "Ep8f0dPA3p70",
        "outputId": "b0502100-348f-49b8-cf66-ec50b54e25a1"
      },
      "outputs": [
        {
          "output_type": "stream",
          "name": "stdout",
          "text": [
            "Warning: Looks like you're using an outdated `kagglehub` version (installed: 0.3.10), please consider upgrading to the latest version (0.3.11).\n",
            "Path to dataset files: /root/.cache/kagglehub/datasets/yasserh/wine-quality-dataset/versions/1\n"
          ]
        }
      ],
      "source": [
        "import kagglehub\n",
        "\n",
        "# Download latest version\n",
        "path = kagglehub.dataset_download(\"yasserh/wine-quality-dataset\")\n",
        "\n",
        "print(\"Path to dataset files:\", path)"
      ]
    },
    {
      "cell_type": "code",
      "source": [
        "import pandas as pd\n",
        "import numpy as np\n",
        "from sklearn.model_selection import train_test_split\n",
        "from sklearn.preprocessing import StandardScaler\n",
        "import tensorflow as tf\n",
        "from tensorflow.keras.models import Sequential, model_from_json\n",
        "from tensorflow.keras.layers import Dense, Dropout\n",
        "from tensorflow.keras.callbacks import ModelCheckpoint, LearningRateScheduler\n",
        "import matplotlib.pyplot as plt\n",
        "\n",
        "df = pd.read_csv('/root/.cache/kagglehub/datasets/yasserh/wine-quality-dataset/versions/1/WineQT.csv')\n",
        "\n",
        "X = df.drop('quality', axis=1)\n",
        "y = df['quality']\n",
        "\n",
        "scaler = StandardScaler()\n",
        "X_scaled = scaler.fit_transform(X)\n",
        "\n",
        "X_train, X_test, y_train, y_test = train_test_split(X_scaled, y, test_size=0.2, random_state=42)\n"
      ],
      "metadata": {
        "id": "GQgbkNt54ig_"
      },
      "execution_count": 12,
      "outputs": []
    },
    {
      "cell_type": "markdown",
      "source": [
        "###HDF5"
      ],
      "metadata": {
        "id": "BW7hixIW5BZS"
      }
    },
    {
      "cell_type": "code",
      "source": [
        "model = Sequential([\n",
        "    Dense(64, activation='relu', input_shape=(X_train.shape[1],)),\n",
        "    Dense(32, activation='relu'),\n",
        "    Dense(1)\n",
        "])\n",
        "\n",
        "model.compile(optimizer='adam', loss=tf.keras.losses.mse, metrics=['mae'])\n",
        "model.fit(X_train, y_train, epochs=50, validation_split=0.2, verbose=0)\n",
        "\n",
        "model.save(\"wine_quality_model.h5\")\n",
        "\n",
        "loaded_model = tf.keras.models.load_model(\"wine_quality_model.h5\")\n",
        "loss, mae = loaded_model.evaluate(X_test, y_test)\n",
        "print(\"Loaded Model MAE:\", mae)"
      ],
      "metadata": {
        "colab": {
          "base_uri": "https://localhost:8080/"
        },
        "id": "0G1XXDU35NUG",
        "outputId": "49130d62-03b8-4dac-c3f6-2dd984ad4447"
      },
      "execution_count": 3,
      "outputs": [
        {
          "output_type": "stream",
          "name": "stderr",
          "text": [
            "/usr/local/lib/python3.11/dist-packages/keras/src/layers/core/dense.py:87: UserWarning: Do not pass an `input_shape`/`input_dim` argument to a layer. When using Sequential models, prefer using an `Input(shape)` object as the first layer in the model instead.\n",
            "  super().__init__(activity_regularizer=activity_regularizer, **kwargs)\n",
            "WARNING:absl:You are saving your model as an HDF5 file via `model.save()` or `keras.saving.save_model(model)`. This file format is considered legacy. We recommend using instead the native Keras format, e.g. `model.save('my_model.keras')` or `keras.saving.save_model(model, 'my_model.keras')`. \n",
            "WARNING:absl:Compiled the loaded model, but the compiled metrics have yet to be built. `model.compile_metrics` will be empty until you train or evaluate the model.\n"
          ]
        },
        {
          "output_type": "stream",
          "name": "stdout",
          "text": [
            "\u001b[1m8/8\u001b[0m \u001b[32m━━━━━━━━━━━━━━━━━━━━\u001b[0m\u001b[37m\u001b[0m \u001b[1m0s\u001b[0m 5ms/step - loss: 0.5371 - mean_absolute_error: 0.5554  \n",
            "Loaded Model MAE: 0.5509666800498962\n"
          ]
        }
      ]
    },
    {
      "cell_type": "markdown",
      "source": [
        "###JSON"
      ],
      "metadata": {
        "id": "gHlWi0H96bOG"
      }
    },
    {
      "cell_type": "code",
      "source": [
        "model_json = model.to_json()\n",
        "with open(\"wine_quality_model.json\", \"w\") as json_file:\n",
        "    json_file.write(model_json)\n",
        "\n",
        "with open(\"wine_quality_model.json\", \"r\") as json_file:\n",
        "    loaded_json_model = json_file.read()\n",
        "\n",
        "json_model = model_from_json(loaded_json_model)\n",
        "json_model.compile(optimizer='adam', loss='mse', metrics=['mae'])\n",
        "json_model.fit(X_train, y_train, epochs=10, validation_split=0.2, verbose=0)\n",
        "\n",
        "loss, mae = json_model.evaluate(X_test, y_test)\n",
        "print(\"JSON Loaded Model MAE:\", mae)"
      ],
      "metadata": {
        "colab": {
          "base_uri": "https://localhost:8080/"
        },
        "id": "L3SXumfJ5XS2",
        "outputId": "e27214ec-8ac9-433f-8ff8-45c3d619c380"
      },
      "execution_count": 4,
      "outputs": [
        {
          "output_type": "stream",
          "name": "stdout",
          "text": [
            "\u001b[1m8/8\u001b[0m \u001b[32m━━━━━━━━━━━━━━━━━━━━\u001b[0m\u001b[37m\u001b[0m \u001b[1m0s\u001b[0m 6ms/step - loss: 1.8056 - mae: 1.0541 \n",
            "JSON Loaded Model MAE: 1.0253355503082275\n"
          ]
        }
      ]
    },
    {
      "cell_type": "markdown",
      "source": [
        "###YAML"
      ],
      "metadata": {
        "id": "IVmqneeS6ZYf"
      }
    },
    {
      "cell_type": "code",
      "source": [
        "import yaml\n",
        "\n",
        "model_json = model.to_json()\n",
        "\n",
        "model_yaml = yaml.dump(model_json)\n",
        "\n",
        "with open(\"wine_quality_model.yaml\", \"w\") as yaml_file:\n",
        "    yaml_file.write(model_yaml)\n",
        "\n",
        "with open(\"wine_quality_model.yaml\", \"r\") as yaml_file:\n",
        "    loaded_yaml_model = yaml.safe_load(yaml_file)\n",
        "\n",
        "yaml_model = tf.keras.models.model_from_json(loaded_yaml_model)\n",
        "yaml_model.compile(optimizer='adam', loss='mse', metrics=['mae'])\n",
        "yaml_model.fit(X_train, y_train, epochs=10, validation_split=0.2, verbose=0)\n",
        "\n",
        "loss, mae = yaml_model.evaluate(X_test, y_test)\n",
        "print(\"YAML Loaded Model MAE:\", mae)"
      ],
      "metadata": {
        "colab": {
          "base_uri": "https://localhost:8080/"
        },
        "id": "jABPP8u453qn",
        "outputId": "e09d1c9f-2cb0-4396-9258-79d629e843e2"
      },
      "execution_count": 5,
      "outputs": [
        {
          "output_type": "stream",
          "name": "stdout",
          "text": [
            "\u001b[1m8/8\u001b[0m \u001b[32m━━━━━━━━━━━━━━━━━━━━\u001b[0m\u001b[37m\u001b[0m \u001b[1m0s\u001b[0m 5ms/step - loss: 1.6548 - mae: 1.0247 \n",
            "YAML Loaded Model MAE: 0.9992786645889282\n"
          ]
        }
      ]
    },
    {
      "cell_type": "markdown",
      "source": [
        "###Model Checkpoints (Best & Improved Models)"
      ],
      "metadata": {
        "id": "lx3WeVqJ6f78"
      }
    },
    {
      "cell_type": "code",
      "source": [
        "best_checkpoint = ModelCheckpoint(\"best_model.h5\", save_best_only=True, monitor=\"val_loss\", mode=\"min\")\n",
        "improved_checkpoint = ModelCheckpoint(\"improved_model.weights.h5\", save_weights_only=True, monitor=\"val_loss\", mode=\"min\")\n",
        "\n",
        "model.compile(optimizer='adam', loss=tf.keras.losses.mse, metrics=['mae'])\n",
        "model.fit(X_train, y_train, epochs=50, validation_split=0.2, verbose=0, callbacks=[best_checkpoint, improved_checkpoint])\n",
        "\n",
        "best_model = tf.keras.models.load_model(\"best_model.h5\")\n",
        "loss, mae = best_model.evaluate(X_test, y_test)\n",
        "print(\"Best Checkpoint Model MAE:\", mae)"
      ],
      "metadata": {
        "colab": {
          "base_uri": "https://localhost:8080/"
        },
        "id": "NWUdopdj7oUs",
        "outputId": "65a9016a-0491-48bf-ca58-2315dab85928"
      },
      "execution_count": 6,
      "outputs": [
        {
          "output_type": "stream",
          "name": "stderr",
          "text": [
            "WARNING:absl:You are saving your model as an HDF5 file via `model.save()` or `keras.saving.save_model(model)`. This file format is considered legacy. We recommend using instead the native Keras format, e.g. `model.save('my_model.keras')` or `keras.saving.save_model(model, 'my_model.keras')`. \n",
            "WARNING:absl:You are saving your model as an HDF5 file via `model.save()` or `keras.saving.save_model(model)`. This file format is considered legacy. We recommend using instead the native Keras format, e.g. `model.save('my_model.keras')` or `keras.saving.save_model(model, 'my_model.keras')`. \n",
            "WARNING:absl:You are saving your model as an HDF5 file via `model.save()` or `keras.saving.save_model(model)`. This file format is considered legacy. We recommend using instead the native Keras format, e.g. `model.save('my_model.keras')` or `keras.saving.save_model(model, 'my_model.keras')`. \n",
            "WARNING:absl:You are saving your model as an HDF5 file via `model.save()` or `keras.saving.save_model(model)`. This file format is considered legacy. We recommend using instead the native Keras format, e.g. `model.save('my_model.keras')` or `keras.saving.save_model(model, 'my_model.keras')`. \n",
            "WARNING:absl:You are saving your model as an HDF5 file via `model.save()` or `keras.saving.save_model(model)`. This file format is considered legacy. We recommend using instead the native Keras format, e.g. `model.save('my_model.keras')` or `keras.saving.save_model(model, 'my_model.keras')`. \n",
            "WARNING:absl:You are saving your model as an HDF5 file via `model.save()` or `keras.saving.save_model(model)`. This file format is considered legacy. We recommend using instead the native Keras format, e.g. `model.save('my_model.keras')` or `keras.saving.save_model(model, 'my_model.keras')`. \n",
            "WARNING:absl:You are saving your model as an HDF5 file via `model.save()` or `keras.saving.save_model(model)`. This file format is considered legacy. We recommend using instead the native Keras format, e.g. `model.save('my_model.keras')` or `keras.saving.save_model(model, 'my_model.keras')`. \n",
            "WARNING:absl:You are saving your model as an HDF5 file via `model.save()` or `keras.saving.save_model(model)`. This file format is considered legacy. We recommend using instead the native Keras format, e.g. `model.save('my_model.keras')` or `keras.saving.save_model(model, 'my_model.keras')`. \n",
            "WARNING:absl:You are saving your model as an HDF5 file via `model.save()` or `keras.saving.save_model(model)`. This file format is considered legacy. We recommend using instead the native Keras format, e.g. `model.save('my_model.keras')` or `keras.saving.save_model(model, 'my_model.keras')`. \n",
            "WARNING:absl:You are saving your model as an HDF5 file via `model.save()` or `keras.saving.save_model(model)`. This file format is considered legacy. We recommend using instead the native Keras format, e.g. `model.save('my_model.keras')` or `keras.saving.save_model(model, 'my_model.keras')`. \n",
            "WARNING:absl:You are saving your model as an HDF5 file via `model.save()` or `keras.saving.save_model(model)`. This file format is considered legacy. We recommend using instead the native Keras format, e.g. `model.save('my_model.keras')` or `keras.saving.save_model(model, 'my_model.keras')`. \n",
            "WARNING:absl:Compiled the loaded model, but the compiled metrics have yet to be built. `model.compile_metrics` will be empty until you train or evaluate the model.\n"
          ]
        },
        {
          "output_type": "stream",
          "name": "stdout",
          "text": [
            "\u001b[1m8/8\u001b[0m \u001b[32m━━━━━━━━━━━━━━━━━━━━\u001b[0m\u001b[37m\u001b[0m \u001b[1m0s\u001b[0m 5ms/step - loss: 0.4676 - mean_absolute_error: 0.4986  \n",
            "Best Checkpoint Model MAE: 0.4983297884464264\n"
          ]
        }
      ]
    },
    {
      "cell_type": "markdown",
      "source": [
        "###Visualizing Model Training History"
      ],
      "metadata": {
        "id": "YsjT8Zt68PsV"
      }
    },
    {
      "cell_type": "code",
      "source": [
        "history = model.fit(X_train, y_train, epochs=50, validation_split=0.2, verbose=0)\n",
        "\n",
        "plt.plot(history.history['loss'], label='Train Loss')\n",
        "plt.plot(history.history['val_loss'], label='Validation Loss')\n",
        "plt.xlabel('Epoch')\n",
        "plt.ylabel('Loss (MSE)')\n",
        "plt.legend()\n",
        "plt.title('Model Training History')\n",
        "plt.show()"
      ],
      "metadata": {
        "colab": {
          "base_uri": "https://localhost:8080/",
          "height": 472
        },
        "id": "q3ZREriG8R56",
        "outputId": "179e79d2-787f-44b5-d069-695518f3555a"
      },
      "execution_count": 7,
      "outputs": [
        {
          "output_type": "display_data",
          "data": {
            "text/plain": [
              "<Figure size 640x480 with 1 Axes>"
            ],
            "image/png": "[encoded data removed]"
          },
          "metadata": {}
        }
      ]
    },
    {
      "cell_type": "markdown",
      "source": [
        "###Dropout Regularization (Visible & Hidden Layers)"
      ],
      "metadata": {
        "id": "ZB5xyLuk8kFX"
      }
    },
    {
      "cell_type": "code",
      "source": [
        "dropout_model = Sequential([\n",
        "    Dropout(0.2, input_shape=(X_train.shape[1],)),\n",
        "    Dense(64, activation='relu'),\n",
        "    Dropout(0.3),\n",
        "    Dense(32, activation='relu'),\n",
        "    Dense(1)\n",
        "])\n",
        "\n",
        "dropout_model.compile(optimizer='adam', loss='mse', metrics=['mae'])\n",
        "dropout_model.fit(X_train, y_train, epochs=50, validation_split=0.2, verbose=0)\n",
        "\n",
        "loss, mae = dropout_model.evaluate(X_test, y_test)\n",
        "print(\"Dropout Model MAE:\", mae)"
      ],
      "metadata": {
        "colab": {
          "base_uri": "https://localhost:8080/"
        },
        "id": "BPgFjTac8mCs",
        "outputId": "82c8df2c-6c05-4eb2-eb46-ae3ad70f1129"
      },
      "execution_count": 8,
      "outputs": [
        {
          "output_type": "stream",
          "name": "stderr",
          "text": [
            "/usr/local/lib/python3.11/dist-packages/keras/src/layers/regularization/dropout.py:42: UserWarning: Do not pass an `input_shape`/`input_dim` argument to a layer. When using Sequential models, prefer using an `Input(shape)` object as the first layer in the model instead.\n",
            "  super().__init__(**kwargs)\n"
          ]
        },
        {
          "output_type": "stream",
          "name": "stdout",
          "text": [
            "\u001b[1m8/8\u001b[0m \u001b[32m━━━━━━━━━━━━━━━━━━━━\u001b[0m\u001b[37m\u001b[0m \u001b[1m0s\u001b[0m 5ms/step - loss: 0.4686 - mae: 0.5350 \n",
            "Dropout Model MAE: 0.5247841477394104\n"
          ]
        }
      ]
    },
    {
      "cell_type": "markdown",
      "source": [
        "###Time-Based Learning Rate Schedule"
      ],
      "metadata": {
        "id": "2FEPA_M390xq"
      }
    },
    {
      "cell_type": "code",
      "source": [
        "def time_based_lr(epoch, lr):\n",
        "    new_lr = lr * 0.98\n",
        "    print(f\"Epoch {epoch+1}: Learning Rate = {new_lr}\")\n",
        "    return new_lr\n",
        "\n",
        "lr_callback = tf.keras.callbacks.LearningRateScheduler(time_based_lr)\n",
        "\n",
        "history = model.fit(X_train, y_train, epochs=50, validation_split=0.2, verbose=0, callbacks=[lr_callback])"
      ],
      "metadata": {
        "colab": {
          "base_uri": "https://localhost:8080/"
        },
        "id": "XzYh_1r694ni",
        "outputId": "4154f6f0-d473-45e6-debb-6ad6483e48dc"
      },
      "execution_count": 9,
      "outputs": [
        {
          "output_type": "stream",
          "name": "stdout",
          "text": [
            "Epoch 1: Learning Rate = 0.0009800000465475024\n",
            "Epoch 2: Learning Rate = 0.0009604000113904476\n",
            "Epoch 3: Learning Rate = 0.0009411920362617821\n",
            "Epoch 4: Learning Rate = 0.0009223681921139359\n",
            "Epoch 5: Learning Rate = 0.0009039208351168781\n",
            "Epoch 6: Learning Rate = 0.0008858424355275929\n",
            "Epoch 7: Learning Rate = 0.0008681255776900798\n",
            "Epoch 8: Learning Rate = 0.0008507630741223693\n",
            "Epoch 9: Learning Rate = 0.0008337477943859994\n",
            "Epoch 10: Learning Rate = 0.0008170728362165391\n",
            "Epoch 11: Learning Rate = 0.000800731354393065\n",
            "Epoch 12: Learning Rate = 0.0007847167318686842\n",
            "Epoch 13: Learning Rate = 0.0007690224086400121\n",
            "Epoch 14: Learning Rate = 0.000753641938790679\n",
            "Epoch 15: Learning Rate = 0.000738569104578346\n",
            "Epoch 16: Learning Rate = 0.0007237977453041822\n",
            "Epoch 17: Learning Rate = 0.0007093218143563718\n",
            "Epoch 18: Learning Rate = 0.0006951353792101144\n",
            "Epoch 19: Learning Rate = 0.000681232678471133\n",
            "Epoch 20: Learning Rate = 0.0006676080077886582\n",
            "Epoch 21: Learning Rate = 0.0006542558339424432\n",
            "Epoch 22: Learning Rate = 0.0006411707377992571\n",
            "Epoch 23: Learning Rate = 0.0006283473002258688\n",
            "Epoch 24: Learning Rate = 0.0006157803302630782\n",
            "Epoch 25: Learning Rate = 0.0006034647510387004\n",
            "Epoch 26: Learning Rate = 0.0005913954286370426\n",
            "Epoch 27: Learning Rate = 0.000579567514359951\n",
            "Epoch 28: Learning Rate = 0.0005679761595092713\n",
            "Epoch 29: Learning Rate = 0.000556616629473865\n",
            "Epoch 30: Learning Rate = 0.0005454843037296087\n",
            "Epoch 31: Learning Rate = 0.0005345746187958866\n",
            "Epoch 32: Learning Rate = 0.0005238831252790988\n",
            "Epoch 33: Learning Rate = 0.0005134054878726601\n",
            "Epoch 34: Learning Rate = 0.0005031373712699861\n",
            "Epoch 35: Learning Rate = 0.0004930746112950146\n",
            "Epoch 36: Learning Rate = 0.00048321310081519183\n",
            "Epoch 37: Learning Rate = 0.0004735488467849791\n",
            "Epoch 38: Learning Rate = 0.00046407785615883764\n",
            "Epoch 39: Learning Rate = 0.000454796307021752\n",
            "Epoch 40: Learning Rate = 0.0004457003774587065\n",
            "Epoch 41: Learning Rate = 0.00043678635964170096\n",
            "Epoch 42: Learning Rate = 0.0004280506313079968\n",
            "Epoch 43: Learning Rate = 0.000419489627238363\n",
            "Epoch 44: Learning Rate = 0.0004110998392570764\n",
            "Epoch 45: Learning Rate = 0.00040287784475367516\n",
            "Epoch 46: Learning Rate = 0.0003948202781612053\n",
            "Epoch 47: Learning Rate = 0.0003869238594779745\n",
            "Epoch 48: Learning Rate = 0.0003791853942675516\n",
            "Epoch 49: Learning Rate = 0.0003716016880935058\n",
            "Epoch 50: Learning Rate = 0.0003641696606064215\n"
          ]
        }
      ]
    },
    {
      "cell_type": "markdown",
      "source": [
        "###Drop-Based Learning Rate Schedule"
      ],
      "metadata": {
        "id": "rRPRTQXL98Ya"
      }
    },
    {
      "cell_type": "code",
      "source": [
        "def drop_based_lr(epoch, lr):\n",
        "    drop_rate = 0.5\n",
        "    epochs_drop = 10\n",
        "    new_lr = lr * (drop_rate ** (epoch // epochs_drop))\n",
        "    print(f\"Epoch {epoch+1}: Learning Rate = {new_lr}\")\n",
        "    return new_lr\n",
        "\n",
        "lr_callback = tf.keras.callbacks.LearningRateScheduler(drop_based_lr)\n",
        "\n",
        "history = model.fit(X_train, y_train, epochs=50, validation_split=0.2, verbose=0, callbacks=[lr_callback])"
      ],
      "metadata": {
        "colab": {
          "base_uri": "https://localhost:8080/"
        },
        "id": "OdytO6pY9-Ru",
        "outputId": "11d58ad9-9e1d-435a-9f36-54102cb81146"
      },
      "execution_count": 10,
      "outputs": [
        {
          "output_type": "stream",
          "name": "stdout",
          "text": [
            "Epoch 1: Learning Rate = 0.0003641696530394256\n",
            "Epoch 2: Learning Rate = 0.0003641696530394256\n",
            "Epoch 3: Learning Rate = 0.0003641696530394256\n",
            "Epoch 4: Learning Rate = 0.0003641696530394256\n",
            "Epoch 5: Learning Rate = 0.0003641696530394256\n",
            "Epoch 6: Learning Rate = 0.0003641696530394256\n",
            "Epoch 7: Learning Rate = 0.0003641696530394256\n",
            "Epoch 8: Learning Rate = 0.0003641696530394256\n",
            "Epoch 9: Learning Rate = 0.0003641696530394256\n",
            "Epoch 10: Learning Rate = 0.0003641696530394256\n",
            "Epoch 11: Learning Rate = 0.0001820848265197128\n",
            "Epoch 12: Learning Rate = 9.10424132598564e-05\n",
            "Epoch 13: Learning Rate = 4.55212066299282e-05\n",
            "Epoch 14: Learning Rate = 2.27606033149641e-05\n",
            "Epoch 15: Learning Rate = 1.138030165748205e-05\n",
            "Epoch 16: Learning Rate = 5.690150828741025e-06\n",
            "Epoch 17: Learning Rate = 2.8450754143705126e-06\n",
            "Epoch 18: Learning Rate = 1.4225377071852563e-06\n",
            "Epoch 19: Learning Rate = 7.112688535926281e-07\n",
            "Epoch 20: Learning Rate = 3.556344267963141e-07\n",
            "Epoch 21: Learning Rate = 8.890860669907852e-08\n",
            "Epoch 22: Learning Rate = 2.222715167476963e-08\n",
            "Epoch 23: Learning Rate = 5.556787918692407e-09\n",
            "Epoch 24: Learning Rate = 1.3891969796731019e-09\n",
            "Epoch 25: Learning Rate = 3.4729924491827546e-10\n",
            "Epoch 26: Learning Rate = 8.682481122956887e-11\n",
            "Epoch 27: Learning Rate = 2.1706202807392216e-11\n",
            "Epoch 28: Learning Rate = 5.426550701848054e-12\n",
            "Epoch 29: Learning Rate = 1.3566376754620135e-12\n",
            "Epoch 30: Learning Rate = 3.391594188655034e-13\n",
            "Epoch 31: Learning Rate = 4.239492735818792e-14\n",
            "Epoch 32: Learning Rate = 5.29936591977349e-15\n",
            "Epoch 33: Learning Rate = 6.624207399716863e-16\n",
            "Epoch 34: Learning Rate = 8.280259249646079e-17\n",
            "Epoch 35: Learning Rate = 1.0350324062057598e-17\n",
            "Epoch 36: Learning Rate = 1.2937905077571998e-18\n",
            "Epoch 37: Learning Rate = 1.6172381346964997e-19\n",
            "Epoch 38: Learning Rate = 2.0215476683706247e-20\n",
            "Epoch 39: Learning Rate = 2.526934585463281e-21\n",
            "Epoch 40: Learning Rate = 3.158668231829101e-22\n",
            "Epoch 41: Learning Rate = 1.9741676448931882e-23\n",
            "Epoch 42: Learning Rate = 1.2338547780582426e-24\n",
            "Epoch 43: Learning Rate = 7.711592362864016e-26\n",
            "Epoch 44: Learning Rate = 4.81974522679001e-27\n",
            "Epoch 45: Learning Rate = 3.0123407667437563e-28\n",
            "Epoch 46: Learning Rate = 1.8827129792148477e-29\n",
            "Epoch 47: Learning Rate = 1.1766956120092798e-30\n",
            "Epoch 48: Learning Rate = 7.354347575057999e-32\n",
            "Epoch 49: Learning Rate = 4.596467234411249e-33\n",
            "Epoch 50: Learning Rate = 2.872792021507031e-34\n"
          ]
        }
      ]
    },
    {
      "cell_type": "markdown",
      "source": [
        "###Conclusion"
      ],
      "metadata": {
        "id": "SNHj3GHx_OVw"
      }
    },
    {
      "cell_type": "markdown",
      "source": [
        "Through this experiment, I learned how to save and load neural network models in different formats, apply regularization techniques like dropout, and implement learning rate schedules to improve training efficiency. By using the Wine Quality dataset, I was able to explore both classification and regression tasks, demonstrating how model architecture and hyperparameters affect performance. The results showed that tuning layers, neurons, and learning rates can significantly impact accuracy and loss. Understanding these techniques will help me build more effective deep learning models in the future."
      ],
      "metadata": {
        "id": "rYTAJhYL_R7D"
      }
    }
  ]
}